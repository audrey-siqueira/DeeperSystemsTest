{
  "nbformat": 4,
  "nbformat_minor": 0,
  "metadata": {
    "colab": {
      "name": "DeeperSystem",
      "provenance": [],
      "authorship_tag": "ABX9TyPzGjxvlrHX3VsKRDHLHthP",
      "include_colab_link": true
    },
    "kernelspec": {
      "name": "python3",
      "display_name": "Python 3"
    }
  },
  "cells": [
    {
      "cell_type": "markdown",
      "metadata": {
        "id": "view-in-github",
        "colab_type": "text"
      },
      "source": [
        "<a href=\"https://colab.research.google.com/github/audrey-siqueira/DeeperSystemsTest/blob/main/DeeperSystem.ipynb\" target=\"_parent\"><img src=\"https://colab.research.google.com/assets/colab-badge.svg\" alt=\"Open In Colab\"/></a>"
      ]
    },
    {
      "cell_type": "markdown",
      "metadata": {
        "id": "2Ey5T7OKo-Ee"
      },
      "source": [
        "IMPORTING ORIGINAL JSON FILE"
      ]
    },
    {
      "cell_type": "code",
      "metadata": {
        "colab": {
          "resources": {
            "http://localhost:8080/nbextensions/google.colab/files.js": {
              "data": "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",
              "ok": true,
              "headers": [
                [
                  "content-type",
                  "application/javascript"
                ]
              ],
              "status": 200,
              "status_text": ""
            }
          },
          "base_uri": "https://localhost:8080/",
          "height": 73
        },
        "id": "BmoMMfEVmshM",
        "outputId": "4f84c84e-0047-4ed6-ba2a-8673c0567d9b"
      },
      "source": [
        "from google.colab import files\r\n",
        "uploaded = files.upload()"
      ],
      "execution_count": 82,
      "outputs": [
        {
          "output_type": "display_data",
          "data": {
            "text/html": [
              "\n",
              "     <input type=\"file\" id=\"files-6752f120-7faa-451a-b912-8acb54fb3d1c\" name=\"files[]\" multiple disabled\n",
              "        style=\"border:none\" />\n",
              "     <output id=\"result-6752f120-7faa-451a-b912-8acb54fb3d1c\">\n",
              "      Upload widget is only available when the cell has been executed in the\n",
              "      current browser session. Please rerun this cell to enable.\n",
              "      </output>\n",
              "      <script src=\"/nbextensions/google.colab/files.js\"></script> "
            ],
            "text/plain": [
              "<IPython.core.display.HTML object>"
            ]
          },
          "metadata": {
            "tags": []
          }
        },
        {
          "output_type": "stream",
          "text": [
            "Saving source_file_2.json to source_file_2 (3).json\n"
          ],
          "name": "stdout"
        }
      ]
    },
    {
      "cell_type": "markdown",
      "metadata": {
        "id": "5k-ldXkZpFj9"
      },
      "source": [
        "CONVERTING JSON IN A DATAFRAME , SORTING BY PRIORITY"
      ]
    },
    {
      "cell_type": "code",
      "metadata": {
        "colab": {
          "base_uri": "https://localhost:8080/"
        },
        "id": "X4ax7UtymITp",
        "outputId": "ae56c19a-e981-4da9-a41f-f5574b4dad69"
      },
      "source": [
        "import pandas as pd\r\n",
        "import json\r\n",
        "df = pd.read_json ('source_file_2.json')\r\n",
        "df= df.sort_values(by='priority')\r\n",
        "print (df)\r\n"
      ],
      "execution_count": 265,
      "outputs": [
        {
          "output_type": "stream",
          "text": [
            "                                         name  ... priority\n",
            "2                                 Annotations  ...       10\n",
            "21                         [EXECUTIVE] Merlin  ...       20\n",
            "45                      sportsparsers - 22bet  ...       45\n",
            "44            sportsparsers - esportscalendar  ...       55\n",
            "33                   morris bg data gathering  ...      130\n",
            "42                     sportsparsers - unikrn  ...      145\n",
            "4                                  Deepgammon  ...      150\n",
            "41                         Runningball Parser  ...      155\n",
            "43                     sportsparsers - unibet  ...      250\n",
            "1                               [Web] pm-site  ...      260\n",
            "36                 sportsparsers - tipster.de  ...      295\n",
            "40                     sportsparsers - betway  ...      300\n",
            "39                     sportsparsers - gg.bet  ...      310\n",
            "34               sportsparsers - pinnacle API  ...      340\n",
            "37                  sportsparsers - matchbook  ...      395\n",
            "3                [OCR] tesseract MRZ reading   ...      560\n",
            "28       [ID-VERIFY-PIPELINE] finger detector  ...      735\n",
            "20                [CHESS] Live Demo Executive  ...      750\n",
            "22                  [INHOUSE-TOOLS] NN-Webapp  ...      755\n",
            "23             [INHOUSE-TOOLS] Annotators app  ...      760\n",
            "9       unity render diff passport text artur  ...      815\n",
            "0                        [CV] [Qt] OpenCV GUI  ...      850\n",
            "5                       python training lucas  ...     2160\n",
            "6                     python training alysson  ...     2180\n",
            "7        unity render different passport text  ...     2230\n",
            "8       [template] unity render passport text  ...     2235\n",
            "10  unity render diff passport text - kennedy  ...     2260\n",
            "11      Unity Render Passport Text [Template]  ...     2265\n",
            "12              mateus silva bg deep checkers  ...     2295\n",
            "13                  Android Camera App rrocha  ...     2300\n",
            "14                    bg deep learning aporto  ...     2305\n",
            "15                 bg deep checkers rvalentim  ...     2310\n",
            "16                       tourney site famador  ...     2320\n",
            "17                chess board finder eliaquim  ...     2330\n",
            "18                         tourney site ariel  ...     2340\n",
            "19                     tourney site tbarbalho  ...     2345\n",
            "24               [IOS-APPS] IOS streaming app  ...     2375\n",
            "25                      [IOS-APPS] IOS PI app  ...     2380\n",
            "26                       [HR] Candidate tests  ...     2385\n",
            "27                           [CHATBOT] merlin  ...     2390\n",
            "29  [ID-VERIFY-PIPELINE] Background evaluator  ...     2395\n",
            "30       [ID-VERIFY-PIPELINE] Passport finder  ...     2400\n",
            "31                          [CHATBOT] rodrigo  ...     2405\n",
            "32                    [BG-CLUB-SITE] frontend  ...     2435\n",
            "35                [INHOUSE-TOOLS] NN-Webapp 2  ...     2520\n",
            "38                  matchbook parser - mfilho  ...     2575\n",
            "\n",
            "[46 rows x 4 columns]\n"
          ],
          "name": "stdout"
        }
      ]
    },
    {
      "cell_type": "markdown",
      "metadata": {
        "id": "RQDPV5Qso2cM"
      },
      "source": [
        "FINDING EACH PERSON IN THE DATAFRAME"
      ]
    },
    {
      "cell_type": "code",
      "metadata": {
        "colab": {
          "base_uri": "https://localhost:8080/"
        },
        "id": "GPsVaMyb6fz-",
        "outputId": "b564d2e4-3d73-43f8-f299-798fea516882"
      },
      "source": [
        "N=df.managers\r\n",
        "U=[]\r\n",
        "for i in N:\r\n",
        "    for k in i:\r\n",
        "        U.append(k)\r\n",
        "N=list(tuple(set(U)))\r\n",
        "print(N)"
      ],
      "execution_count": 271,
      "outputs": [
        {
          "output_type": "stream",
          "text": [
            "['victor-mgr', 'victor', 'luanda', 'morris', 'merlin', 'ariel', 'csaftoiu', 'arturc']\n"
          ],
          "name": "stdout"
        }
      ]
    },
    {
      "cell_type": "markdown",
      "metadata": {
        "id": "NKKHCKFgpNxR"
      },
      "source": [
        "OUTPUTING MANAGERS.JSON WITH EVERY TASK FOR EACH MANAGER."
      ]
    },
    {
      "cell_type": "code",
      "metadata": {
        "colab": {
          "base_uri": "https://localhost:8080/"
        },
        "id": "YMJ275oi4EU0",
        "outputId": "422d3043-e34f-428c-ed4b-bdd9eca6e851"
      },
      "source": [
        "managers=[]\r\n",
        "for i in N:\r\n",
        "   M=list(df.name[df.managers.str.contains(i, regex=False)])\r\n",
        "   managers.append({ i : M })\r\n",
        "print(json.dumps(managers, indent = 1))\r\n"
      ],
      "execution_count": 267,
      "outputs": [
        {
          "output_type": "stream",
          "text": [
            "[\n",
            " {\n",
            "  \"victor-mgr\": [\n",
            "   \"mateus silva bg deep checkers\",\n",
            "   \"Android Camera App rrocha\",\n",
            "   \"bg deep learning aporto\",\n",
            "   \"bg deep checkers rvalentim\",\n",
            "   \"tourney site famador\",\n",
            "   \"tourney site ariel\",\n",
            "   \"tourney site tbarbalho\"\n",
            "  ]\n",
            " },\n",
            " {\n",
            "  \"victor\": [\n",
            "   \"morris bg data gathering\"\n",
            "  ]\n",
            " },\n",
            " {\n",
            "  \"luanda\": [\n",
            "   \"Annotations\"\n",
            "  ]\n",
            " },\n",
            " {\n",
            "  \"morris\": [\n",
            "   \"sportsparsers - 22bet\",\n",
            "   \"sportsparsers - esportscalendar\",\n",
            "   \"sportsparsers - unikrn\",\n",
            "   \"Deepgammon\",\n",
            "   \"Runningball Parser\",\n",
            "   \"sportsparsers - unibet\",\n",
            "   \"sportsparsers - tipster.de\",\n",
            "   \"sportsparsers - betway\",\n",
            "   \"sportsparsers - gg.bet\",\n",
            "   \"sportsparsers - matchbook\",\n",
            "   \"matchbook parser - mfilho\"\n",
            "  ]\n",
            " },\n",
            " {\n",
            "  \"merlin\": [\n",
            "   \"[EXECUTIVE] Merlin\",\n",
            "   \"[Web] pm-site\",\n",
            "   \"[ID-VERIFY-PIPELINE] finger detector\",\n",
            "   \"[CHESS] Live Demo Executive\",\n",
            "   \"[INHOUSE-TOOLS] NN-Webapp\",\n",
            "   \"[INHOUSE-TOOLS] Annotators app\",\n",
            "   \"[CV] [Qt] OpenCV GUI\",\n",
            "   \"python training lucas\",\n",
            "   \"python training alysson\",\n",
            "   \"unity render diff passport text - kennedy\",\n",
            "   \"Unity Render Passport Text [Template]\",\n",
            "   \"chess board finder eliaquim\",\n",
            "   \"[IOS-APPS] IOS streaming app\",\n",
            "   \"[IOS-APPS] IOS PI app\",\n",
            "   \"[HR] Candidate tests\",\n",
            "   \"[CHATBOT] merlin\",\n",
            "   \"[ID-VERIFY-PIPELINE] Background evaluator\",\n",
            "   \"[ID-VERIFY-PIPELINE] Passport finder\",\n",
            "   \"[CHATBOT] rodrigo\",\n",
            "   \"[BG-CLUB-SITE] frontend\",\n",
            "   \"[INHOUSE-TOOLS] NN-Webapp 2\"\n",
            "  ]\n",
            " },\n",
            " {\n",
            "  \"ariel\": [\n",
            "   \"[BG-CLUB-SITE] frontend\"\n",
            "  ]\n",
            " },\n",
            " {\n",
            "  \"csaftoiu\": [\n",
            "   \"sportsparsers - pinnacle API\",\n",
            "   \"[OCR] tesseract MRZ reading \",\n",
            "   \"unity render diff passport text artur\",\n",
            "   \"[CV] [Qt] OpenCV GUI\",\n",
            "   \"unity render different passport text\",\n",
            "   \"[template] unity render passport text\",\n",
            "   \"matchbook parser - mfilho\"\n",
            "  ]\n",
            " },\n",
            " {\n",
            "  \"arturc\": [\n",
            "   \"unity render diff passport text artur\"\n",
            "  ]\n",
            " }\n",
            "]\n"
          ],
          "name": "stdout"
        }
      ]
    },
    {
      "cell_type": "markdown",
      "metadata": {
        "id": "wPZqMIlwpY3u"
      },
      "source": [
        "OUTPUTING WATCHERS.JSON, WITH EVERY TASK FOR EACH WATCHER."
      ]
    },
    {
      "cell_type": "code",
      "metadata": {
        "colab": {
          "base_uri": "https://localhost:8080/"
        },
        "id": "_YVX0n5on_fJ",
        "outputId": "dea1824c-24db-44f4-e699-31de484bed17"
      },
      "source": [
        "watchers=[]\r\n",
        "for i in N:\r\n",
        "   W=list(df.name[df.watchers.str.contains(i, regex=False)])\r\n",
        "   watchers.append({ i : W })\r\n",
        "print(json.dumps(watchers, indent = 1))"
      ],
      "execution_count": 269,
      "outputs": [
        {
          "output_type": "stream",
          "text": [
            "[\n",
            " {\n",
            "  \"victor-mgr\": [\n",
            "   \"chess board finder eliaquim\"\n",
            "  ]\n",
            " },\n",
            " {\n",
            "  \"victor\": [\n",
            "   \"Annotations\",\n",
            "   \"Deepgammon\"\n",
            "  ]\n",
            " },\n",
            " {\n",
            "  \"luanda\": []\n",
            " },\n",
            " {\n",
            "  \"morris\": [\n",
            "   \"[EXECUTIVE] Merlin\",\n",
            "   \"morris bg data gathering\",\n",
            "   \"[Web] pm-site\",\n",
            "   \"sportsparsers - pinnacle API\",\n",
            "   \"[ID-VERIFY-PIPELINE] finger detector\",\n",
            "   \"[CHESS] Live Demo Executive\",\n",
            "   \"[INHOUSE-TOOLS] NN-Webapp\",\n",
            "   \"[INHOUSE-TOOLS] Annotators app\",\n",
            "   \"unity render diff passport text artur\",\n",
            "   \"[CV] [Qt] OpenCV GUI\",\n",
            "   \"python training lucas\",\n",
            "   \"python training alysson\",\n",
            "   \"unity render different passport text\",\n",
            "   \"[template] unity render passport text\",\n",
            "   \"unity render diff passport text - kennedy\",\n",
            "   \"Unity Render Passport Text [Template]\",\n",
            "   \"[IOS-APPS] IOS streaming app\",\n",
            "   \"[IOS-APPS] IOS PI app\",\n",
            "   \"[HR] Candidate tests\",\n",
            "   \"[CHATBOT] merlin\",\n",
            "   \"[ID-VERIFY-PIPELINE] Background evaluator\",\n",
            "   \"[ID-VERIFY-PIPELINE] Passport finder\",\n",
            "   \"[CHATBOT] rodrigo\",\n",
            "   \"[BG-CLUB-SITE] frontend\",\n",
            "   \"[INHOUSE-TOOLS] NN-Webapp 2\"\n",
            "  ]\n",
            " },\n",
            " {\n",
            "  \"merlin\": [\n",
            "   \"Annotations\",\n",
            "   \"[EXECUTIVE] Merlin\",\n",
            "   \"sportsparsers - 22bet\",\n",
            "   \"sportsparsers - esportscalendar\",\n",
            "   \"sportsparsers - unikrn\",\n",
            "   \"Deepgammon\",\n",
            "   \"Runningball Parser\",\n",
            "   \"sportsparsers - unibet\",\n",
            "   \"sportsparsers - tipster.de\",\n",
            "   \"sportsparsers - betway\",\n",
            "   \"sportsparsers - gg.bet\",\n",
            "   \"sportsparsers - matchbook\",\n",
            "   \"[OCR] tesseract MRZ reading \",\n",
            "   \"[INHOUSE-TOOLS] NN-Webapp\",\n",
            "   \"unity render diff passport text artur\",\n",
            "   \"[CV] [Qt] OpenCV GUI\",\n",
            "   \"unity render different passport text\",\n",
            "   \"[template] unity render passport text\",\n",
            "   \"unity render diff passport text - kennedy\",\n",
            "   \"Unity Render Passport Text [Template]\",\n",
            "   \"mateus silva bg deep checkers\",\n",
            "   \"Android Camera App rrocha\",\n",
            "   \"bg deep learning aporto\",\n",
            "   \"bg deep checkers rvalentim\",\n",
            "   \"tourney site famador\",\n",
            "   \"tourney site ariel\",\n",
            "   \"tourney site tbarbalho\",\n",
            "   \"[INHOUSE-TOOLS] NN-Webapp 2\",\n",
            "   \"matchbook parser - mfilho\"\n",
            "  ]\n",
            " },\n",
            " {\n",
            "  \"ariel\": []\n",
            " },\n",
            " {\n",
            "  \"csaftoiu\": [\n",
            "   \"Annotations\",\n",
            "   \"[EXECUTIVE] Merlin\",\n",
            "   \"sportsparsers - 22bet\",\n",
            "   \"sportsparsers - esportscalendar\",\n",
            "   \"morris bg data gathering\",\n",
            "   \"sportsparsers - unikrn\",\n",
            "   \"Runningball Parser\",\n",
            "   \"sportsparsers - unibet\",\n",
            "   \"[Web] pm-site\",\n",
            "   \"sportsparsers - tipster.de\",\n",
            "   \"sportsparsers - betway\",\n",
            "   \"sportsparsers - gg.bet\",\n",
            "   \"sportsparsers - pinnacle API\",\n",
            "   \"sportsparsers - matchbook\",\n",
            "   \"[ID-VERIFY-PIPELINE] finger detector\",\n",
            "   \"[CHESS] Live Demo Executive\",\n",
            "   \"[INHOUSE-TOOLS] NN-Webapp\",\n",
            "   \"[INHOUSE-TOOLS] Annotators app\",\n",
            "   \"python training lucas\",\n",
            "   \"python training alysson\",\n",
            "   \"unity render diff passport text - kennedy\",\n",
            "   \"Unity Render Passport Text [Template]\",\n",
            "   \"mateus silva bg deep checkers\",\n",
            "   \"Android Camera App rrocha\",\n",
            "   \"bg deep learning aporto\",\n",
            "   \"bg deep checkers rvalentim\",\n",
            "   \"tourney site famador\",\n",
            "   \"chess board finder eliaquim\",\n",
            "   \"tourney site ariel\",\n",
            "   \"tourney site tbarbalho\",\n",
            "   \"[IOS-APPS] IOS streaming app\",\n",
            "   \"[IOS-APPS] IOS PI app\",\n",
            "   \"[HR] Candidate tests\",\n",
            "   \"[CHATBOT] merlin\",\n",
            "   \"[ID-VERIFY-PIPELINE] Background evaluator\",\n",
            "   \"[ID-VERIFY-PIPELINE] Passport finder\",\n",
            "   \"[CHATBOT] rodrigo\",\n",
            "   \"[BG-CLUB-SITE] frontend\",\n",
            "   \"[INHOUSE-TOOLS] NN-Webapp 2\"\n",
            "  ]\n",
            " },\n",
            " {\n",
            "  \"arturc\": [\n",
            "   \"[OCR] tesseract MRZ reading \"\n",
            "  ]\n",
            " }\n",
            "]\n"
          ],
          "name": "stdout"
        }
      ]
    }
  ]
}